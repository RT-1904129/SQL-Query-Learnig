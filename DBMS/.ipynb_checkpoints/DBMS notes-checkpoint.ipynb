{
 "cells": [
  {
   "cell_type": "markdown",
   "metadata": {},
   "source": [
    "***university database*** organizes the data about students, faculty, and admin staff etc. which helps in efficient retrieval, insertion and deletion of data from it.\n",
    "\n",
    "**DDL is short name of Data Definition Language**, which deals with database schemas and descriptions, of how the data should reside in the database.\n",
    "\n",
    "CREATE: to create a database and its objects like (table, index, views, store procedure, function, and triggers)\n",
    "ALTER: alters the structure of the existing database\n",
    "DROP: delete objects from the database\n",
    "TRUNCATE: remove all records from a table, including all spaces allocated for the records are removed\n",
    "COMMENT: add comments to the data dictionary\n",
    "RENAME: rename an object\n",
    "\n",
    "\n",
    "**DML is short name of Data Manipulation Language which deals with data manipulation** and includes most common SQL statements such SELECT, INSERT, UPDATE, DELETE, etc., and it is used to store, modify, retrieve, delete and update data in a database.\n",
    "\n",
    "\n",
    "\n",
    "\n",
    "\n",
    "\n",
    "\n",
    "\n",
    "\n"
   ]
  }
 ],
 "metadata": {
  "kernelspec": {
   "display_name": "Python 3",
   "language": "python",
   "name": "python3"
  },
  "language_info": {
   "codemirror_mode": {
    "name": "ipython",
    "version": 3
   },
   "file_extension": ".py",
   "mimetype": "text/x-python",
   "name": "python",
   "nbconvert_exporter": "python",
   "pygments_lexer": "ipython3",
   "version": "3.7.6"
  }
 },
 "nbformat": 4,
 "nbformat_minor": 4
}
